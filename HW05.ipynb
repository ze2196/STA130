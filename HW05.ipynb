{
 "cells": [
  {
   "cell_type": "markdown",
   "id": "94e1543c",
   "metadata": {},
   "source": [
    "### Chatbot logs\n",
    "\n",
    "https://chatgpt.com/share/67077782-a894-800c-8155-a063883d13c4\n",
    "\n",
    "https://chatgpt.com/share/6707778d-b2a8-800c-83dd-3baacd3d247f"
   ]
  },
  {
   "cell_type": "markdown",
   "id": "f47eac7a",
   "metadata": {},
   "source": [
    "### 1\n",
    " \n",
    "The key factor that makes the difference between ideas that can, and cannot be examined and tested statistically is whether the idea is quantifiable or can be measured numerically. The key criteria in defining what a good null hypothesis is is whether it is testable. A null hypothesis says that there is no effect or no relationship between variables, while an alternative hypothesis says that there is an effect or a relationship between variables."
   ]
  },
  {
   "cell_type": "markdown",
   "id": "af0c1ba8",
   "metadata": {},
   "source": [
    "### 2\n",
    "\n",
    "When we conduct a hypothesis test, we are testing hypotheses about the population mean (μ), not about the sample mean (xˉ). The sample is used to infer conclusions about the population, but the test's outcome refers to the population parameter (like μ or μ0)"
   ]
  },
  {
   "cell_type": "markdown",
   "id": "acf82dac",
   "metadata": {},
   "source": [
    "### 3\n",
    "\n",
    "The p-value is the probability that we get results as extreme the one's observed in a world where the null hypothesis is actually true. We can use the p-value to make inferences on whether the null hypothesis is actually true based on how likely or unlikely the results are based on the p-value"
   ]
  },
  {
   "cell_type": "markdown",
   "id": "9e334782",
   "metadata": {},
   "source": [
    "### 4\n",
    "\n",
    "A smaller p-value makes the null hypothesis seem more ridiculous because the smaller the p-value the lower the probability of getting the observed results if the null hypothesis was true. So a very small p-value implies that it would be very unlikely that we get the results we observed if the null hypothesis was true."
   ]
  },
  {
   "cell_type": "markdown",
   "id": "67751c8e",
   "metadata": {},
   "source": [
    "### 5"
   ]
  },
  {
   "cell_type": "code",
   "execution_count": 6,
   "id": "684abd6b",
   "metadata": {},
   "outputs": [
    {
     "name": "stdout",
     "output_type": "stream",
     "text": [
      "Simulated p-value: 0.0007\n"
     ]
    }
   ],
   "source": [
    "import numpy as np\n",
    "\n",
    "# Simulation parameters\n",
    "n_couples = 124      # Number of couples\n",
    "n_right_obs = 80      # Observed number of right tilts\n",
    "n_simulations = 10000 # Number of simulations\n",
    "prob_right = 0.5      # Probability of right tilt under H0 (50/50 coin-flipping)\n",
    "\n",
    "# Run simulations\n",
    "simulated_tilts = np.random.binomial(n_couples, prob_right, n_simulations)\n",
    "\n",
    "# Count how many simulations had 80 or more right tilts\n",
    "p_value = np.mean(simulated_tilts >= n_right_obs)\n",
    "\n",
    "print(f\"Simulated p-value: {p_value}\")"
   ]
  },
  {
   "cell_type": "markdown",
   "id": "6e063a6e",
   "metadata": {},
   "source": [
    "We have very stong evidence against the null hypothesis"
   ]
  },
  {
   "cell_type": "markdown",
   "id": "a604ed0a",
   "metadata": {},
   "source": [
    "### 6\n",
    "\n",
    "A smaller p-value cannot definitively prove that the null hypothesis is false. A small p-value indicates that the observed data is unlikely under the null hypothesis. However, it can't prove the null hypothesis is false, and only suggests that the data provide strong evidence against the null hypothesis. Similarly a large p-value does not prove that the null hypothesis is true. It indicates that the data are consistent with the null hypothesis, but it does not confirm it."
   ]
  },
  {
   "cell_type": "markdown",
   "id": "5279580c",
   "metadata": {},
   "source": [
    "### 7"
   ]
  },
  {
   "cell_type": "code",
   "execution_count": 37,
   "id": "8f2d20c9",
   "metadata": {},
   "outputs": [
    {
     "data": {
      "text/html": [
       "<div>\n",
       "<style scoped>\n",
       "    .dataframe tbody tr th:only-of-type {\n",
       "        vertical-align: middle;\n",
       "    }\n",
       "\n",
       "    .dataframe tbody tr th {\n",
       "        vertical-align: top;\n",
       "    }\n",
       "\n",
       "    .dataframe thead th {\n",
       "        text-align: right;\n",
       "    }\n",
       "</style>\n",
       "<table border=\"1\" class=\"dataframe\">\n",
       "  <thead>\n",
       "    <tr style=\"text-align: right;\">\n",
       "      <th></th>\n",
       "      <th>PatientID</th>\n",
       "      <th>Age</th>\n",
       "      <th>Gender</th>\n",
       "      <th>InitialHealthScore</th>\n",
       "      <th>FinalHealthScore</th>\n",
       "    </tr>\n",
       "  </thead>\n",
       "  <tbody>\n",
       "    <tr>\n",
       "      <th>0</th>\n",
       "      <td>1</td>\n",
       "      <td>45</td>\n",
       "      <td>M</td>\n",
       "      <td>84</td>\n",
       "      <td>86</td>\n",
       "    </tr>\n",
       "    <tr>\n",
       "      <th>1</th>\n",
       "      <td>2</td>\n",
       "      <td>34</td>\n",
       "      <td>F</td>\n",
       "      <td>78</td>\n",
       "      <td>86</td>\n",
       "    </tr>\n",
       "    <tr>\n",
       "      <th>2</th>\n",
       "      <td>3</td>\n",
       "      <td>29</td>\n",
       "      <td>M</td>\n",
       "      <td>83</td>\n",
       "      <td>80</td>\n",
       "    </tr>\n",
       "    <tr>\n",
       "      <th>3</th>\n",
       "      <td>4</td>\n",
       "      <td>52</td>\n",
       "      <td>F</td>\n",
       "      <td>81</td>\n",
       "      <td>86</td>\n",
       "    </tr>\n",
       "    <tr>\n",
       "      <th>4</th>\n",
       "      <td>5</td>\n",
       "      <td>37</td>\n",
       "      <td>M</td>\n",
       "      <td>81</td>\n",
       "      <td>84</td>\n",
       "    </tr>\n",
       "    <tr>\n",
       "      <th>5</th>\n",
       "      <td>6</td>\n",
       "      <td>41</td>\n",
       "      <td>F</td>\n",
       "      <td>80</td>\n",
       "      <td>86</td>\n",
       "    </tr>\n",
       "    <tr>\n",
       "      <th>6</th>\n",
       "      <td>7</td>\n",
       "      <td>33</td>\n",
       "      <td>M</td>\n",
       "      <td>79</td>\n",
       "      <td>86</td>\n",
       "    </tr>\n",
       "    <tr>\n",
       "      <th>7</th>\n",
       "      <td>8</td>\n",
       "      <td>48</td>\n",
       "      <td>F</td>\n",
       "      <td>85</td>\n",
       "      <td>82</td>\n",
       "    </tr>\n",
       "    <tr>\n",
       "      <th>8</th>\n",
       "      <td>9</td>\n",
       "      <td>26</td>\n",
       "      <td>M</td>\n",
       "      <td>76</td>\n",
       "      <td>83</td>\n",
       "    </tr>\n",
       "    <tr>\n",
       "      <th>9</th>\n",
       "      <td>10</td>\n",
       "      <td>39</td>\n",
       "      <td>F</td>\n",
       "      <td>83</td>\n",
       "      <td>84</td>\n",
       "    </tr>\n",
       "  </tbody>\n",
       "</table>\n",
       "</div>"
      ],
      "text/plain": [
       "   PatientID  Age Gender  InitialHealthScore  FinalHealthScore\n",
       "0          1   45      M                  84                86\n",
       "1          2   34      F                  78                86\n",
       "2          3   29      M                  83                80\n",
       "3          4   52      F                  81                86\n",
       "4          5   37      M                  81                84\n",
       "5          6   41      F                  80                86\n",
       "6          7   33      M                  79                86\n",
       "7          8   48      F                  85                82\n",
       "8          9   26      M                  76                83\n",
       "9         10   39      F                  83                84"
      ]
     },
     "execution_count": 37,
     "metadata": {},
     "output_type": "execute_result"
    }
   ],
   "source": [
    "import pandas as pd\n",
    "\n",
    "patient_data = pd.DataFrame({\n",
    "    \"PatientID\": [1, 2, 3, 4, 5, 6, 7, 8, 9, 10],\n",
    "    \"Age\": [45, 34, 29, 52, 37, 41, 33, 48, 26, 39],\n",
    "    \"Gender\": [\"M\", \"F\", \"M\", \"F\", \"M\", \"F\", \"M\", \"F\", \"M\", \"F\"],\n",
    "    \"InitialHealthScore\": [84, 78, 83, 81, 81, 80, 79, 85, 76, 83],\n",
    "    \"FinalHealthScore\": [86, 86, 80, 86, 84, 86, 86, 82, 83, 84]\n",
    "})\n",
    "patient_data"
   ]
  },
  {
   "cell_type": "code",
   "execution_count": 38,
   "id": "7b42e049",
   "metadata": {},
   "outputs": [
    {
     "data": {
      "text/html": [
       "<div>\n",
       "<style scoped>\n",
       "    .dataframe tbody tr th:only-of-type {\n",
       "        vertical-align: middle;\n",
       "    }\n",
       "\n",
       "    .dataframe tbody tr th {\n",
       "        vertical-align: top;\n",
       "    }\n",
       "\n",
       "    .dataframe thead th {\n",
       "        text-align: right;\n",
       "    }\n",
       "</style>\n",
       "<table border=\"1\" class=\"dataframe\">\n",
       "  <thead>\n",
       "    <tr style=\"text-align: right;\">\n",
       "      <th></th>\n",
       "      <th>PatientID</th>\n",
       "      <th>Age</th>\n",
       "      <th>Gender</th>\n",
       "      <th>InitialHealthScore</th>\n",
       "      <th>FinalHealthScore</th>\n",
       "      <th>HealthScoreChange</th>\n",
       "    </tr>\n",
       "  </thead>\n",
       "  <tbody>\n",
       "    <tr>\n",
       "      <th>0</th>\n",
       "      <td>1</td>\n",
       "      <td>45</td>\n",
       "      <td>M</td>\n",
       "      <td>84</td>\n",
       "      <td>86</td>\n",
       "      <td>2</td>\n",
       "    </tr>\n",
       "    <tr>\n",
       "      <th>1</th>\n",
       "      <td>2</td>\n",
       "      <td>34</td>\n",
       "      <td>F</td>\n",
       "      <td>78</td>\n",
       "      <td>86</td>\n",
       "      <td>8</td>\n",
       "    </tr>\n",
       "    <tr>\n",
       "      <th>2</th>\n",
       "      <td>3</td>\n",
       "      <td>29</td>\n",
       "      <td>M</td>\n",
       "      <td>83</td>\n",
       "      <td>80</td>\n",
       "      <td>-3</td>\n",
       "    </tr>\n",
       "    <tr>\n",
       "      <th>3</th>\n",
       "      <td>4</td>\n",
       "      <td>52</td>\n",
       "      <td>F</td>\n",
       "      <td>81</td>\n",
       "      <td>86</td>\n",
       "      <td>5</td>\n",
       "    </tr>\n",
       "    <tr>\n",
       "      <th>4</th>\n",
       "      <td>5</td>\n",
       "      <td>37</td>\n",
       "      <td>M</td>\n",
       "      <td>81</td>\n",
       "      <td>84</td>\n",
       "      <td>3</td>\n",
       "    </tr>\n",
       "    <tr>\n",
       "      <th>5</th>\n",
       "      <td>6</td>\n",
       "      <td>41</td>\n",
       "      <td>F</td>\n",
       "      <td>80</td>\n",
       "      <td>86</td>\n",
       "      <td>6</td>\n",
       "    </tr>\n",
       "    <tr>\n",
       "      <th>6</th>\n",
       "      <td>7</td>\n",
       "      <td>33</td>\n",
       "      <td>M</td>\n",
       "      <td>79</td>\n",
       "      <td>86</td>\n",
       "      <td>7</td>\n",
       "    </tr>\n",
       "    <tr>\n",
       "      <th>7</th>\n",
       "      <td>8</td>\n",
       "      <td>48</td>\n",
       "      <td>F</td>\n",
       "      <td>85</td>\n",
       "      <td>82</td>\n",
       "      <td>-3</td>\n",
       "    </tr>\n",
       "    <tr>\n",
       "      <th>8</th>\n",
       "      <td>9</td>\n",
       "      <td>26</td>\n",
       "      <td>M</td>\n",
       "      <td>76</td>\n",
       "      <td>83</td>\n",
       "      <td>7</td>\n",
       "    </tr>\n",
       "    <tr>\n",
       "      <th>9</th>\n",
       "      <td>10</td>\n",
       "      <td>39</td>\n",
       "      <td>F</td>\n",
       "      <td>83</td>\n",
       "      <td>84</td>\n",
       "      <td>1</td>\n",
       "    </tr>\n",
       "  </tbody>\n",
       "</table>\n",
       "</div>"
      ],
      "text/plain": [
       "   PatientID  Age Gender  InitialHealthScore  FinalHealthScore  \\\n",
       "0          1   45      M                  84                86   \n",
       "1          2   34      F                  78                86   \n",
       "2          3   29      M                  83                80   \n",
       "3          4   52      F                  81                86   \n",
       "4          5   37      M                  81                84   \n",
       "5          6   41      F                  80                86   \n",
       "6          7   33      M                  79                86   \n",
       "7          8   48      F                  85                82   \n",
       "8          9   26      M                  76                83   \n",
       "9         10   39      F                  83                84   \n",
       "\n",
       "   HealthScoreChange  \n",
       "0                  2  \n",
       "1                  8  \n",
       "2                 -3  \n",
       "3                  5  \n",
       "4                  3  \n",
       "5                  6  \n",
       "6                  7  \n",
       "7                 -3  \n",
       "8                  7  \n",
       "9                  1  "
      ]
     },
     "execution_count": 38,
     "metadata": {},
     "output_type": "execute_result"
    }
   ],
   "source": [
    "patient_data['HealthScoreChange'] = patient_data.FinalHealthScore-patient_data.InitialHealthScore\n",
    "# why do we do the subtraction in this order?\n",
    "patient_data"
   ]
  },
  {
   "cell_type": "code",
   "execution_count": 40,
   "id": "ec26482b",
   "metadata": {},
   "outputs": [],
   "source": [
    "# And then can you see what's happening here???\n",
    "\n",
    " # make simulation reproducible\n",
    "number_of_simulations = 10000  # experiment with this... what does this do?\n",
    "n_size = len(patient_data)  # 10\n",
    "IncreaseProportionSimulations_underH0random = np.zeros(number_of_simulations)\n",
    "\n",
    "# generate \"random improvement\" proportions assuming H0 (vaccine has no average effect) is true \n",
    "# meaning that the \"before and after\" differences are positive or negative at \"random\"\n",
    "for i in range(number_of_simulations):\n",
    "    \n",
    "    # why is this equivalent to the suggested idea above?\n",
    "    random_improvement = np.random.choice([0,1], size=len(patient_data), replace=True)  # <<< `replace=True` ^^^\n",
    "\n",
    "    # why is .mean() a proportion? \n",
    "    IncreaseProportionSimulations_underH0random[i] = random_improvement.mean()\n",
    "    # why is this the statistic we're interested in? Hint: next section..."
   ]
  },
  {
   "cell_type": "code",
   "execution_count": 42,
   "id": "99a5d429",
   "metadata": {},
   "outputs": [
    {
     "name": "stdout",
     "output_type": "stream",
     "text": [
      "Number of Simulations: 10000\n",
      "\n",
      "Number of simulated statistics (under H0)\n",
      "that are \"as or more extreme\" than the observed statistic: 564\n",
      "\n",
      "p-value\n",
      "(= simulations \"as or more extreme\" / total simulations): 0.0564\n"
     ]
    }
   ],
   "source": [
    "import numpy as np\n",
    "\n",
    "# Simulated parameters and data\n",
    "observed_statistic = (patient_data.HealthScoreChange > 0).mean()  # Observed statistic from the sample\n",
    "population_parameter_value_under_H0 = 0.5  # Hypothesized population proportion under H0 (50% no change)\n",
    "\n",
    "# Simulated statistics under H0\n",
    "number_of_simulations = 10000  # Number of bootstrapped simulations\n",
    "simulated_statistics = IncreaseProportionSimulations_underH0random  # Simulated stats under H0 (random sampling)\n",
    "\n",
    "# For a one-sided test, we only count statistics greater than or equal to the observed statistic\n",
    "SimStats_as_or_more_extreme_than_ObsStat = simulated_statistics >= observed_statistic\n",
    "\n",
    "# Calculate the p-value as the proportion of simulations as or more extreme\n",
    "p_value = SimStats_as_or_more_extreme_than_ObsStat.sum() / number_of_simulations\n",
    "\n",
    "# Output results\n",
    "print(\"Number of Simulations: \", number_of_simulations, \"\\n\\n\",\n",
    "      \"Number of simulated statistics (under H0)\\n\",\n",
    "      'that are \"as or more extreme\" than the observed statistic: ',\n",
    "      SimStats_as_or_more_extreme_than_ObsStat.sum(), \"\\n\\n\",\n",
    "      'p-value\\n(= simulations \"as or more extreme\" / total simulations): ', p_value, sep=\"\")\n"
   ]
  },
  {
   "cell_type": "markdown",
   "id": "fb2c4f32",
   "metadata": {},
   "source": [
    "For the one-sided hypothesis test, we only check whether the simulated statistics are greater than or equal to the observed statistic, while for the two-sided test, we compared the absolute differences between simulated and hypothesized value.\n",
    "\n",
    "The alternative hypothesis for the one sided test is that the population parameter is greater than 0.5, while for the two sided test it is that the population parameter does not equal 0.5. In a two-sided test, we are testing whether the observed statistic differs from 0.5 in either direction\n",
    "\n",
    "Typically the p-value will be smaller in a one-tailed test compared to a two-tailed test, assuming the observed effect is in the direction specified by the one-tailed alternative hypothesis. Because the p-value includes the probability of observing values as extreme as the observed statistic in both directions in a two sided test, while in a one sided test only one direction is considered. However, if the observed statistic were in the opposite direction of the one-sided alternative hypothesis, the p-value could be larger in a one-sided test."
   ]
  },
  {
   "cell_type": "markdown",
   "id": "1e69f18c",
   "metadata": {},
   "source": [
    "### 8"
   ]
  },
  {
   "cell_type": "markdown",
   "id": "e01a535e",
   "metadata": {},
   "source": [
    "Null Hypothesis: The proportion of students who can correctly identify the order of pouring is 50%\n",
    "H0:p=0.5\n",
    "\n",
    "Alternative Hypothesis: The proportion of students who can correctly identify the order of pouring is greater than 50%, indicating that students have some ability to distinguish the pouring order.\n",
    "HA:p>0.5\n"
   ]
  },
  {
   "cell_type": "code",
   "execution_count": 15,
   "id": "7cfe5e38",
   "metadata": {},
   "outputs": [
    {
     "name": "stdout",
     "output_type": "stream",
     "text": [
      "z = 2.0124611797498115\n",
      "p_value = 0.022085672454221217\n",
      "Confidence interval = (0.5057440726485105, 0.7192559273514896)\n",
      "p_value_simulation = 0.0294\n"
     ]
    }
   ],
   "source": [
    "import numpy as np\n",
    "import scipy.stats as stats\n",
    "\n",
    "# Set seed for reproducibility\n",
    "np.random.seed(42)\n",
    "\n",
    "# Observed values\n",
    "n = 80  # Sample size\n",
    "p_hat = 49 / 80  # Observed proportion\n",
    "p_0 = 0.5  # Null hypothesis proportion\n",
    "\n",
    "# One-sample proportion z-test\n",
    "z = (p_hat - p_0) / np.sqrt((p_0 * (1 - p_0)) / n)\n",
    "p_value = 1 - stats.norm.cdf(z)\n",
    "\n",
    "# 95% confidence interval for the proportion\n",
    "z_critical = stats.norm.ppf(0.975)  # Two-tailed 95% confidence interval\n",
    "margin_of_error = z_critical * np.sqrt((p_hat * (1 - p_hat)) / n)\n",
    "conf_interval = (p_hat - margin_of_error, p_hat + margin_of_error)\n",
    "\n",
    "# Simulation under the null hypothesis\n",
    "simulations = 10000\n",
    "simulated_data = np.random.binomial(n, p_0, simulations) / n\n",
    "p_value_simulation = np.mean(simulated_data >= p_hat)\n",
    "\n",
    "print(\"z =\", z)\n",
    "print(\"p_value =\", p_value)\n",
    "print(\"Confidence interval =\", conf_interval)\n",
    "print(\"p_value_simulation =\", p_value_simulation)\n"
   ]
  },
  {
   "cell_type": "markdown",
   "id": "07e360ad",
   "metadata": {},
   "source": [
    "The p_value of 0.022 indicates there is moderate evidence against the null hypothesis."
   ]
  },
  {
   "cell_type": "markdown",
   "id": "49d4d05a",
   "metadata": {},
   "source": [
    "### 9\n",
    "\n",
    "Yes"
   ]
  }
 ],
 "metadata": {
  "kernelspec": {
   "display_name": "Python 3 (ipykernel)",
   "language": "python",
   "name": "python3"
  },
  "language_info": {
   "codemirror_mode": {
    "name": "ipython",
    "version": 3
   },
   "file_extension": ".py",
   "mimetype": "text/x-python",
   "name": "python",
   "nbconvert_exporter": "python",
   "pygments_lexer": "ipython3",
   "version": "3.11.6"
  }
 },
 "nbformat": 4,
 "nbformat_minor": 5
}
