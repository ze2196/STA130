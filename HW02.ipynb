{
 "cells": [
  {
   "cell_type": "markdown",
   "id": "e36cd52f",
   "metadata": {},
   "source": [
    "### Chatbot log histories.\n",
    "\n",
    "https://chatgpt.com/share/66ec7c22-58a0-800c-8217-9a1197f27299\n",
    "\n",
    "https://chatgpt.com/share/66ec7c13-c0d0-800c-97ac-ab3bc35345a8\n",
    "\n",
    "https://chatgpt.com/share/66ec7bfc-a850-800c-9488-11f733c9c317\n",
    "\n",
    "https://chatgpt.com/share/66ec7bcb-56c0-800c-9c0b-fa3c15b3a7b4"
   ]
  },
  {
   "cell_type": "markdown",
   "id": "626f9f79",
   "metadata": {},
   "source": [
    "### 3."
   ]
  },
  {
   "cell_type": "code",
   "execution_count": 10,
   "id": "ac7bd9c0",
   "metadata": {},
   "outputs": [
    {
     "data": {
      "text/plain": [
       "0.66674"
      ]
     },
     "execution_count": 10,
     "metadata": {},
     "output_type": "execute_result"
    }
   ],
   "source": [
    "import numpy as np\n",
    "\n",
    "# Setup\n",
    "all_doors = (1, 2, 3)  # The three doors\n",
    "my_initial_choice = 1  # Always start by picking door 1\n",
    "wins = 0  # Count wins\n",
    "reps = 100000  # Number of simulations\n",
    "\n",
    "# Simulation loop\n",
    "for _ in range(reps):\n",
    "    winning_door = np.random.choice(all_doors)  # Randomly pick the winning door\n",
    "    \n",
    "    # Host reveals a goat door, avoiding the chosen door and the winning door\n",
    "    remaining_doors = [door for door in all_doors if door != my_initial_choice and door != winning_door]\n",
    "    goat_door = np.random.choice(remaining_doors)\n",
    "    \n",
    "    # Switch to the remaining door\n",
    "    switch_choice = [door for door in all_doors if door != my_initial_choice and door != goat_door][0]\n",
    "    \n",
    "    # Check if switching results in a win\n",
    "    if switch_choice == winning_door:\n",
    "        wins += 1\n",
    "\n",
    "# Calculate win percentage\n",
    "win_percentage = wins / reps\n",
    "win_percentage\n"
   ]
  },
  {
   "cell_type": "markdown",
   "id": "0c95f685",
   "metadata": {},
   "source": [
    "### 6"
   ]
  },
  {
   "cell_type": "markdown",
   "id": "61396a47",
   "metadata": {},
   "source": [
    "The ChatBot was able to be very helpful for each of the above questions, with any time that I gave the Chatbot some code to analyze it was able to quickly understand all the code and provided more helpful advice.\n",
    "\n",
    "Interacting with the Chatbot to try to figure things out was not at all frustrating or unhelpful, as I rarely had to do much work for the chatbot to give helpful accurate answers.\n",
    "\n",
    "I think chatbots are overall useful to help me understand the code, especially with understanding what certain functions and parts of the code do overall in the code. It can go in detail as well as give an overview and I can get even more in depth with any specific parts that I don't understand."
   ]
  },
  {
   "cell_type": "markdown",
   "id": "96a4ebaf",
   "metadata": {},
   "source": [
    "### 7"
   ]
  },
  {
   "cell_type": "markdown",
   "id": "3404a6fb",
   "metadata": {},
   "source": [
    "I think that my overall perception of AI-driven assistance tools in helping learning coding, statistics, and data science has remained similar since joining the course. I was aware of the many benefits of AI assistance, and since joining, I have learned the specifics of these benefits, as well as new uses that I had not thought about before, but I also learned more about the potential inaccuracies and drawbacks that most AI tools still currently have."
   ]
  },
  {
   "cell_type": "markdown",
   "id": "e9b7d681",
   "metadata": {},
   "source": [
    "### 8 "
   ]
  },
  {
   "cell_type": "markdown",
   "id": "502379a6",
   "metadata": {},
   "source": [
    "#### Chatbot Summary\n",
    "\n",
    "In this session, we discussed several key topics related to skills that are essential in today's modern world, especially in terms of career opportunities:\n",
    "\n",
    "1. **Learning and Adaptability, Communication, Coding, and Data Analysis**: These are foundational skills that are highly valued across industries, enabling professionals to keep up with technological changes, collaborate effectively, and leverage data for decision-making.\n",
    "   \n",
    "2. **Statisticians and Data Scientists**: We explored why coding and data analysis are integral to these roles, as they enable professionals to handle large datasets, automate processes, and implement statistical models. Tools and automation can assist, but hands-on coding and analysis are still critical.\n",
    "\n",
    "3. **Additional Skills for Statisticians**: Beyond coding and data analysis, valuable skills for statisticians include mathematical proficiency, domain knowledge, data visualization, critical thinking, communication, project management, and familiarity with machine learning. Ethical awareness and collaboration are also important.\n",
    "\n",
    "These discussions emphasize the growing complexity of statistical and data-driven roles, where a diverse skill set is key to success."
   ]
  },
  {
   "cell_type": "markdown",
   "id": "ef601e53",
   "metadata": {},
   "source": [
    "I think that given my current skills and experiences, there is still time before I should decided on a specific career path to go down. I am still developing many of the necessary skills to become a statistician, or any other related career opportunities, which I will hopefully obtain in the following years. In order to buid these skills, I will have to maintain a dedicated work ethic and give myself the best chance to succeed at every opportunity."
   ]
  },
  {
   "cell_type": "markdown",
   "id": "6fe893aa",
   "metadata": {},
   "source": [
    "Some of the limitations of Chatbots in discussing skills and career paths are that the Chatbot has limited imformation on myself as a person, and it can be manipulated into giving certain answers depending on the wording of the prompts. For example, if you were to ask a Chatbot about the benefits of a skill or certain career, it would ignore any negatives, possibly giving unrealistic answers. Furthermore, Chatbots do not have the in depth information of someone who has been in a field for years, and mainly gives general information that wont be as useful as discussing the topic with an expert on the topic."
   ]
  },
  {
   "cell_type": "markdown",
   "id": "3f6a8c43",
   "metadata": {},
   "source": [
    "### 9\n",
    "\n",
    "Yes"
   ]
  },
  {
   "cell_type": "code",
   "execution_count": null,
   "id": "cd46f0dd",
   "metadata": {},
   "outputs": [],
   "source": []
  }
 ],
 "metadata": {
  "kernelspec": {
   "display_name": "Python 3 (ipykernel)",
   "language": "python",
   "name": "python3"
  },
  "language_info": {
   "codemirror_mode": {
    "name": "ipython",
    "version": 3
   },
   "file_extension": ".py",
   "mimetype": "text/x-python",
   "name": "python",
   "nbconvert_exporter": "python",
   "pygments_lexer": "ipython3",
   "version": "3.11.6"
  }
 },
 "nbformat": 4,
 "nbformat_minor": 5
}
